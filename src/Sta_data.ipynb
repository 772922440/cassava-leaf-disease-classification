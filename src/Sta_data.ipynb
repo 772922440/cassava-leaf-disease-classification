{
 "cells": [
  {
   "cell_type": "code",
   "execution_count": 4,
   "id": "frozen-cycle",
   "metadata": {},
   "outputs": [],
   "source": [
    "import numpy as np\n",
    "import pandas as pd \n",
    "\n",
    "import torch.utils.data as data\n",
    "import torchvision.transforms as transforms \n",
    "import torch\n",
    "\n",
    "import torch.optim as optim \n",
    "import torch.nn as nn\n",
    "from torch.utils.data import Dataset, DataLoader\n",
    "\n",
    "import os \n",
    "\n",
    "import torchvision.models as models\n",
    "import torch.nn as nn\n",
    "from PIL import Image, ImageOps\n",
    "import sys\n",
    "sys.path.append('../input/pytorchimagemodels/pytorch-image-models-master')\n",
    "# import timm\n",
    "import torch.nn as nn\n",
    "import torch\n",
    "# import albumentations as A\n",
    "# from albumentations.pytorch import ToTensorV2\n",
    "\n",
    "import cv2\n",
    "sys.path.append('../input/toolbelt/pytorch-toolbelt-develop')\n",
    "# from pytorch_toolbelt.inference import tta"
   ]
  },
  {
   "cell_type": "code",
   "execution_count": 5,
   "id": "medium-thinking",
   "metadata": {},
   "outputs": [
    {
     "data": {
      "text/html": [
       "<div>\n",
       "<style scoped>\n",
       "    .dataframe tbody tr th:only-of-type {\n",
       "        vertical-align: middle;\n",
       "    }\n",
       "\n",
       "    .dataframe tbody tr th {\n",
       "        vertical-align: top;\n",
       "    }\n",
       "\n",
       "    .dataframe thead th {\n",
       "        text-align: right;\n",
       "    }\n",
       "</style>\n",
       "<table border=\"1\" class=\"dataframe\">\n",
       "  <thead>\n",
       "    <tr style=\"text-align: right;\">\n",
       "      <th></th>\n",
       "      <th>image_id</th>\n",
       "      <th>label</th>\n",
       "    </tr>\n",
       "  </thead>\n",
       "  <tbody>\n",
       "    <tr>\n",
       "      <th>0</th>\n",
       "      <td>1000015157.jpg</td>\n",
       "      <td>0</td>\n",
       "    </tr>\n",
       "    <tr>\n",
       "      <th>1</th>\n",
       "      <td>1000201771.jpg</td>\n",
       "      <td>3</td>\n",
       "    </tr>\n",
       "    <tr>\n",
       "      <th>2</th>\n",
       "      <td>100042118.jpg</td>\n",
       "      <td>1</td>\n",
       "    </tr>\n",
       "    <tr>\n",
       "      <th>3</th>\n",
       "      <td>1000723321.jpg</td>\n",
       "      <td>1</td>\n",
       "    </tr>\n",
       "    <tr>\n",
       "      <th>4</th>\n",
       "      <td>1000812911.jpg</td>\n",
       "      <td>3</td>\n",
       "    </tr>\n",
       "  </tbody>\n",
       "</table>\n",
       "</div>"
      ],
      "text/plain": [
       "         image_id  label\n",
       "0  1000015157.jpg      0\n",
       "1  1000201771.jpg      3\n",
       "2   100042118.jpg      1\n",
       "3  1000723321.jpg      1\n",
       "4  1000812911.jpg      3"
      ]
     },
     "execution_count": 5,
     "metadata": {},
     "output_type": "execute_result"
    }
   ],
   "source": [
    "df = pd.read_csv('../data/train.csv')\n",
    "df.head()"
   ]
  },
  {
   "cell_type": "code",
   "execution_count": 6,
   "id": "posted-gateway",
   "metadata": {},
   "outputs": [],
   "source": [
    "img_size = []\n",
    "TRAIN_PATH = '../data/train_images/'\n",
    "file_names = df['image_id'].values\n",
    "for file_name in file_names:\n",
    "    file_path = f'{TRAIN_PATH}/{file_name}'\n",
    "    image = cv2.imread(file_path)\n",
    "    image = cv2.cvtColor(image, cv2.COLOR_BGR2RGB)\n",
    "    img_size.append(image.shape)"
   ]
  },
  {
   "cell_type": "code",
   "execution_count": 10,
   "id": "scientific-venue",
   "metadata": {},
   "outputs": [
    {
     "name": "stdout",
     "output_type": "stream",
     "text": [
      "3\n"
     ]
    }
   ],
   "source": [
    "print(len(img_size[img_size == (600, 800, 3)]))"
   ]
  },
  {
   "cell_type": "code",
   "execution_count": 11,
   "id": "eastern-jungle",
   "metadata": {},
   "outputs": [],
   "source": [
    "df['image_size'] = img_size"
   ]
  },
  {
   "cell_type": "code",
   "execution_count": 12,
   "id": "opening-participation",
   "metadata": {},
   "outputs": [
    {
     "data": {
      "text/html": [
       "<div>\n",
       "<style scoped>\n",
       "    .dataframe tbody tr th:only-of-type {\n",
       "        vertical-align: middle;\n",
       "    }\n",
       "\n",
       "    .dataframe tbody tr th {\n",
       "        vertical-align: top;\n",
       "    }\n",
       "\n",
       "    .dataframe thead th {\n",
       "        text-align: right;\n",
       "    }\n",
       "</style>\n",
       "<table border=\"1\" class=\"dataframe\">\n",
       "  <thead>\n",
       "    <tr style=\"text-align: right;\">\n",
       "      <th></th>\n",
       "      <th>image_id</th>\n",
       "      <th>label</th>\n",
       "      <th>image_size</th>\n",
       "    </tr>\n",
       "  </thead>\n",
       "  <tbody>\n",
       "    <tr>\n",
       "      <th>0</th>\n",
       "      <td>1000015157.jpg</td>\n",
       "      <td>0</td>\n",
       "      <td>(600, 800, 3)</td>\n",
       "    </tr>\n",
       "    <tr>\n",
       "      <th>1</th>\n",
       "      <td>1000201771.jpg</td>\n",
       "      <td>3</td>\n",
       "      <td>(600, 800, 3)</td>\n",
       "    </tr>\n",
       "    <tr>\n",
       "      <th>2</th>\n",
       "      <td>100042118.jpg</td>\n",
       "      <td>1</td>\n",
       "      <td>(600, 800, 3)</td>\n",
       "    </tr>\n",
       "    <tr>\n",
       "      <th>3</th>\n",
       "      <td>1000723321.jpg</td>\n",
       "      <td>1</td>\n",
       "      <td>(600, 800, 3)</td>\n",
       "    </tr>\n",
       "    <tr>\n",
       "      <th>4</th>\n",
       "      <td>1000812911.jpg</td>\n",
       "      <td>3</td>\n",
       "      <td>(600, 800, 3)</td>\n",
       "    </tr>\n",
       "  </tbody>\n",
       "</table>\n",
       "</div>"
      ],
      "text/plain": [
       "         image_id  label     image_size\n",
       "0  1000015157.jpg      0  (600, 800, 3)\n",
       "1  1000201771.jpg      3  (600, 800, 3)\n",
       "2   100042118.jpg      1  (600, 800, 3)\n",
       "3  1000723321.jpg      1  (600, 800, 3)\n",
       "4  1000812911.jpg      3  (600, 800, 3)"
      ]
     },
     "execution_count": 12,
     "metadata": {},
     "output_type": "execute_result"
    }
   ],
   "source": [
    "df.head()"
   ]
  },
  {
   "cell_type": "code",
   "execution_count": 16,
   "id": "supposed-nirvana",
   "metadata": {},
   "outputs": [
    {
     "data": {
      "text/plain": [
       "[0        False\n",
       " 1        False\n",
       " 2        False\n",
       " 3        False\n",
       " 4        False\n",
       "          ...  \n",
       " 21392    False\n",
       " 21393    False\n",
       " 21394    False\n",
       " 21395    False\n",
       " 21396    False\n",
       " Name: image_size, Length: 21397, dtype: bool]"
      ]
     },
     "execution_count": 16,
     "metadata": {},
     "output_type": "execute_result"
    }
   ],
   "source": [
    "[df.image_size != (600,800,3)]"
   ]
  },
  {
   "cell_type": "code",
   "execution_count": 17,
   "id": "better-consolidation",
   "metadata": {},
   "outputs": [
    {
     "name": "stdout",
     "output_type": "stream",
     "text": [
      "21397\n"
     ]
    }
   ],
   "source": [
    "print(len(df))"
   ]
  },
  {
   "cell_type": "code",
   "execution_count": 21,
   "id": "spare-tolerance",
   "metadata": {},
   "outputs": [],
   "source": [
    "import os\n",
    "\n",
    "img_size_test = []\n",
    "TEST_PATH = '../data/test_images/'\n",
    "file_names_test = os.listdir('../data/test_images/')\n",
    "for file_name in file_names_test:\n",
    "    file_path = f'{TEST_PATH}/{file_name}'\n",
    "    image = cv2.imread(file_path)\n",
    "    image = cv2.cvtColor(image, cv2.COLOR_BGR2RGB)\n",
    "    img_size_test.append(image.shape)"
   ]
  },
  {
   "cell_type": "code",
   "execution_count": 20,
   "id": "psychological-tower",
   "metadata": {},
   "outputs": [
    {
     "data": {
      "text/plain": [
       "['2216849948.jpg']"
      ]
     },
     "execution_count": 20,
     "metadata": {},
     "output_type": "execute_result"
    }
   ],
   "source": [
    "file_names_test"
   ]
  },
  {
   "cell_type": "code",
   "execution_count": 23,
   "id": "successful-absolute",
   "metadata": {},
   "outputs": [
    {
     "data": {
      "text/plain": [
       "[(600, 800, 3)]"
      ]
     },
     "execution_count": 23,
     "metadata": {},
     "output_type": "execute_result"
    }
   ],
   "source": [
    "img_size_test"
   ]
  },
  {
   "cell_type": "code",
   "execution_count": null,
   "id": "neither-supervision",
   "metadata": {},
   "outputs": [],
   "source": []
  }
 ],
 "metadata": {
  "kernelspec": {
   "display_name": "Python 3",
   "language": "python",
   "name": "python3"
  },
  "language_info": {
   "codemirror_mode": {
    "name": "ipython",
    "version": 3
   },
   "file_extension": ".py",
   "mimetype": "text/x-python",
   "name": "python",
   "nbconvert_exporter": "python",
   "pygments_lexer": "ipython3",
   "version": "3.7.9"
  }
 },
 "nbformat": 4,
 "nbformat_minor": 5
}
