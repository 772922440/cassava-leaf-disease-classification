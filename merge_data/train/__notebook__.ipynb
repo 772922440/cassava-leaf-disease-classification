{
 "cells": [
  {
   "cell_type": "code",
   "execution_count": 1,
   "metadata": {
    "_cell_guid": "b1076dfc-b9ad-4769-8c92-a6c4dae69d19",
    "_uuid": "8f2839f25d086af736a60e9eeb907d3b93b6e0e5",
    "execution": {
     "iopub.execute_input": "2020-11-28T03:01:55.494998Z",
     "iopub.status.busy": "2020-11-28T03:01:55.493990Z",
     "iopub.status.idle": "2020-11-28T03:01:55.496628Z",
     "shell.execute_reply": "2020-11-28T03:01:55.497264Z"
    },
    "papermill": {
     "duration": 0.020184,
     "end_time": "2020-11-28T03:01:55.497474",
     "exception": false,
     "start_time": "2020-11-28T03:01:55.477290",
     "status": "completed"
    },
    "tags": []
   },
   "outputs": [],
   "source": [
    "import pandas as pd\n",
    "import numpy as np"
   ]
  },
  {
   "cell_type": "code",
   "execution_count": 2,
   "metadata": {
    "_kg_hide-output": true,
    "execution": {
     "iopub.execute_input": "2020-11-28T03:01:55.526081Z",
     "iopub.status.busy": "2020-11-28T03:01:55.525276Z",
     "iopub.status.idle": "2020-11-28T03:02:04.027632Z",
     "shell.execute_reply": "2020-11-28T03:02:04.028248Z"
    },
    "papermill": {
     "duration": 8.51863,
     "end_time": "2020-11-28T03:02:04.028426",
     "exception": false,
     "start_time": "2020-11-28T03:01:55.509796",
     "status": "completed"
    },
    "tags": []
   },
   "outputs": [],
   "source": [
    "!unzip -j -q ../input/cassava-disease/train.zip -d train_images"
   ]
  },
  {
   "cell_type": "code",
   "execution_count": 3,
   "metadata": {
    "execution": {
     "iopub.execute_input": "2020-11-28T03:02:04.057109Z",
     "iopub.status.busy": "2020-11-28T03:02:04.056241Z",
     "iopub.status.idle": "2020-11-28T03:02:50.043489Z",
     "shell.execute_reply": "2020-11-28T03:02:50.042539Z"
    },
    "papermill": {
     "duration": 46.00463,
     "end_time": "2020-11-28T03:02:50.043708",
     "exception": false,
     "start_time": "2020-11-28T03:02:04.039078",
     "status": "completed"
    },
    "tags": []
   },
   "outputs": [],
   "source": [
    "!cp -r ../input/cassava-leaf-disease-classification/train_images/* train_images"
   ]
  },
  {
   "cell_type": "code",
   "execution_count": 4,
   "metadata": {
    "_cell_guid": "79c7e3d0-c299-4dcb-8224-4455121ee9b0",
    "_uuid": "d629ff2d2480ee46fbb7e2d37f6b5fab8052498a",
    "execution": {
     "iopub.execute_input": "2020-11-28T03:02:50.078481Z",
     "iopub.status.busy": "2020-11-28T03:02:50.077582Z",
     "iopub.status.idle": "2020-11-28T03:02:50.081298Z",
     "shell.execute_reply": "2020-11-28T03:02:50.081994Z"
    },
    "papermill": {
     "duration": 0.023224,
     "end_time": "2020-11-28T03:02:50.082180",
     "exception": false,
     "start_time": "2020-11-28T03:02:50.058956",
     "status": "completed"
    },
    "tags": []
   },
   "outputs": [],
   "source": [
    "TRAIN_DIR = './train_images/'\n",
    "TRAIN_CSV_PATH = '../input/cassavapreprocessed/merged_data.csv'"
   ]
  },
  {
   "cell_type": "code",
   "execution_count": 5,
   "metadata": {
    "execution": {
     "iopub.execute_input": "2020-11-28T03:02:50.117139Z",
     "iopub.status.busy": "2020-11-28T03:02:50.116004Z",
     "iopub.status.idle": "2020-11-28T03:02:50.194191Z",
     "shell.execute_reply": "2020-11-28T03:02:50.193245Z"
    },
    "papermill": {
     "duration": 0.099842,
     "end_time": "2020-11-28T03:02:50.194405",
     "exception": false,
     "start_time": "2020-11-28T03:02:50.094563",
     "status": "completed"
    },
    "tags": []
   },
   "outputs": [],
   "source": [
    "train = pd.read_csv(TRAIN_CSV_PATH)"
   ]
  },
  {
   "cell_type": "code",
   "execution_count": 6,
   "metadata": {
    "execution": {
     "iopub.execute_input": "2020-11-28T03:02:50.259978Z",
     "iopub.status.busy": "2020-11-28T03:02:50.258417Z",
     "iopub.status.idle": "2020-11-28T03:02:50.274236Z",
     "shell.execute_reply": "2020-11-28T03:02:50.275872Z"
    },
    "papermill": {
     "duration": 0.064803,
     "end_time": "2020-11-28T03:02:50.276380",
     "exception": false,
     "start_time": "2020-11-28T03:02:50.211577",
     "status": "completed"
    },
    "tags": []
   },
   "outputs": [
    {
     "data": {
      "text/html": [
       "<div>\n",
       "<style scoped>\n",
       "    .dataframe tbody tr th:only-of-type {\n",
       "        vertical-align: middle;\n",
       "    }\n",
       "\n",
       "    .dataframe tbody tr th {\n",
       "        vertical-align: top;\n",
       "    }\n",
       "\n",
       "    .dataframe thead th {\n",
       "        text-align: right;\n",
       "    }\n",
       "</style>\n",
       "<table border=\"1\" class=\"dataframe\">\n",
       "  <thead>\n",
       "    <tr style=\"text-align: right;\">\n",
       "      <th></th>\n",
       "      <th>image_id</th>\n",
       "      <th>label</th>\n",
       "      <th>target</th>\n",
       "      <th>ids</th>\n",
       "    </tr>\n",
       "  </thead>\n",
       "  <tbody>\n",
       "    <tr>\n",
       "      <th>0</th>\n",
       "      <td>1000015157.jpg</td>\n",
       "      <td>0</td>\n",
       "      <td>Cassava Bacterial Blight (CBB)</td>\n",
       "      <td>1000015157</td>\n",
       "    </tr>\n",
       "    <tr>\n",
       "      <th>1</th>\n",
       "      <td>1000201771.jpg</td>\n",
       "      <td>3</td>\n",
       "      <td>Cassava Mosaic Disease (CMD)</td>\n",
       "      <td>1000201771</td>\n",
       "    </tr>\n",
       "    <tr>\n",
       "      <th>2</th>\n",
       "      <td>100042118.jpg</td>\n",
       "      <td>1</td>\n",
       "      <td>Cassava Brown Streak Disease (CBSD)</td>\n",
       "      <td>100042118</td>\n",
       "    </tr>\n",
       "    <tr>\n",
       "      <th>3</th>\n",
       "      <td>1000723321.jpg</td>\n",
       "      <td>1</td>\n",
       "      <td>Cassava Brown Streak Disease (CBSD)</td>\n",
       "      <td>1000723321</td>\n",
       "    </tr>\n",
       "    <tr>\n",
       "      <th>4</th>\n",
       "      <td>1000812911.jpg</td>\n",
       "      <td>3</td>\n",
       "      <td>Cassava Mosaic Disease (CMD)</td>\n",
       "      <td>1000812911</td>\n",
       "    </tr>\n",
       "    <tr>\n",
       "      <th>...</th>\n",
       "      <td>...</td>\n",
       "      <td>...</td>\n",
       "      <td>...</td>\n",
       "      <td>...</td>\n",
       "    </tr>\n",
       "    <tr>\n",
       "      <th>26215</th>\n",
       "      <td>train-healthy-95.jpg</td>\n",
       "      <td>4</td>\n",
       "      <td>Healthy</td>\n",
       "      <td>train-healthy-95</td>\n",
       "    </tr>\n",
       "    <tr>\n",
       "      <th>26216</th>\n",
       "      <td>train-healthy-96.jpg</td>\n",
       "      <td>4</td>\n",
       "      <td>Healthy</td>\n",
       "      <td>train-healthy-96</td>\n",
       "    </tr>\n",
       "    <tr>\n",
       "      <th>26217</th>\n",
       "      <td>train-healthy-97.jpg</td>\n",
       "      <td>4</td>\n",
       "      <td>Healthy</td>\n",
       "      <td>train-healthy-97</td>\n",
       "    </tr>\n",
       "    <tr>\n",
       "      <th>26218</th>\n",
       "      <td>train-healthy-98.jpg</td>\n",
       "      <td>4</td>\n",
       "      <td>Healthy</td>\n",
       "      <td>train-healthy-98</td>\n",
       "    </tr>\n",
       "    <tr>\n",
       "      <th>26219</th>\n",
       "      <td>train-healthy-99.jpg</td>\n",
       "      <td>4</td>\n",
       "      <td>Healthy</td>\n",
       "      <td>train-healthy-99</td>\n",
       "    </tr>\n",
       "  </tbody>\n",
       "</table>\n",
       "<p>26220 rows × 4 columns</p>\n",
       "</div>"
      ],
      "text/plain": [
       "                   image_id  label                               target  \\\n",
       "0            1000015157.jpg      0       Cassava Bacterial Blight (CBB)   \n",
       "1            1000201771.jpg      3         Cassava Mosaic Disease (CMD)   \n",
       "2             100042118.jpg      1  Cassava Brown Streak Disease (CBSD)   \n",
       "3            1000723321.jpg      1  Cassava Brown Streak Disease (CBSD)   \n",
       "4            1000812911.jpg      3         Cassava Mosaic Disease (CMD)   \n",
       "...                     ...    ...                                  ...   \n",
       "26215  train-healthy-95.jpg      4                              Healthy   \n",
       "26216  train-healthy-96.jpg      4                              Healthy   \n",
       "26217  train-healthy-97.jpg      4                              Healthy   \n",
       "26218  train-healthy-98.jpg      4                              Healthy   \n",
       "26219  train-healthy-99.jpg      4                              Healthy   \n",
       "\n",
       "                    ids  \n",
       "0            1000015157  \n",
       "1            1000201771  \n",
       "2             100042118  \n",
       "3            1000723321  \n",
       "4            1000812911  \n",
       "...                 ...  \n",
       "26215  train-healthy-95  \n",
       "26216  train-healthy-96  \n",
       "26217  train-healthy-97  \n",
       "26218  train-healthy-98  \n",
       "26219  train-healthy-99  \n",
       "\n",
       "[26220 rows x 4 columns]"
      ]
     },
     "execution_count": 6,
     "metadata": {},
     "output_type": "execute_result"
    }
   ],
   "source": [
    "train"
   ]
  },
  {
   "cell_type": "code",
   "execution_count": 7,
   "metadata": {
    "execution": {
     "iopub.execute_input": "2020-11-28T03:02:50.347747Z",
     "iopub.status.busy": "2020-11-28T03:02:50.344908Z",
     "iopub.status.idle": "2020-11-28T03:02:50.351621Z",
     "shell.execute_reply": "2020-11-28T03:02:50.350757Z"
    },
    "papermill": {
     "duration": 0.058773,
     "end_time": "2020-11-28T03:02:50.351798",
     "exception": false,
     "start_time": "2020-11-28T03:02:50.293025",
     "status": "completed"
    },
    "tags": []
   },
   "outputs": [],
   "source": [
    "train['source'] = train['image_id'].apply(lambda x:2019 if str(x)[:5]=='train' else 2020)"
   ]
  },
  {
   "cell_type": "code",
   "execution_count": 8,
   "metadata": {
    "execution": {
     "iopub.execute_input": "2020-11-28T03:02:50.387367Z",
     "iopub.status.busy": "2020-11-28T03:02:50.383740Z",
     "iopub.status.idle": "2020-11-28T03:02:50.392657Z",
     "shell.execute_reply": "2020-11-28T03:02:50.391835Z"
    },
    "papermill": {
     "duration": 0.029131,
     "end_time": "2020-11-28T03:02:50.392828",
     "exception": false,
     "start_time": "2020-11-28T03:02:50.363697",
     "status": "completed"
    },
    "tags": []
   },
   "outputs": [
    {
     "data": {
      "text/plain": [
       "2020    21022\n",
       "2019     5198\n",
       "Name: source, dtype: int64"
      ]
     },
     "execution_count": 8,
     "metadata": {},
     "output_type": "execute_result"
    }
   ],
   "source": [
    "train['source'].value_counts()"
   ]
  },
  {
   "cell_type": "code",
   "execution_count": 9,
   "metadata": {
    "execution": {
     "iopub.execute_input": "2020-11-28T03:02:50.427451Z",
     "iopub.status.busy": "2020-11-28T03:02:50.426485Z",
     "iopub.status.idle": "2020-11-28T03:02:51.005977Z",
     "shell.execute_reply": "2020-11-28T03:02:51.006706Z"
    },
    "papermill": {
     "duration": 0.600288,
     "end_time": "2020-11-28T03:02:51.006905",
     "exception": false,
     "start_time": "2020-11-28T03:02:50.406617",
     "status": "completed"
    },
    "tags": []
   },
   "outputs": [],
   "source": [
    "train[['image_id','label','source']].to_csv('train.csv',index=False)"
   ]
  },
  {
   "cell_type": "code",
   "execution_count": null,
   "metadata": {
    "papermill": {
     "duration": null,
     "end_time": null,
     "exception": false,
     "start_time": "2020-11-28T03:02:51.020808",
     "status": "running"
    },
    "tags": []
   },
   "outputs": [],
   "source": [
    "!zip -q -r train.zip *"
   ]
  },
  {
   "cell_type": "code",
   "execution_count": null,
   "metadata": {
    "papermill": {
     "duration": null,
     "end_time": null,
     "exception": null,
     "start_time": null,
     "status": "pending"
    },
    "tags": []
   },
   "outputs": [],
   "source": [
    "!rm -rf train_images/\n",
    "!rm -f train.csv"
   ]
  }
 ],
 "metadata": {
  "kernelspec": {
   "display_name": "Python 3",
   "language": "python",
   "name": "python3"
  },
  "language_info": {
   "codemirror_mode": {
    "name": "ipython",
    "version": 3
   },
   "file_extension": ".py",
   "mimetype": "text/x-python",
   "name": "python",
   "nbconvert_exporter": "python",
   "pygments_lexer": "ipython3",
   "version": "3.6.4"
  },
  "papermill": {
   "duration": null,
   "end_time": null,
   "environment_variables": {},
   "exception": null,
   "input_path": "__notebook__.ipynb",
   "output_path": "__notebook__.ipynb",
   "parameters": {},
   "start_time": "2020-11-28T03:01:49.717286",
   "version": "2.1.0"
  }
 },
 "nbformat": 4,
 "nbformat_minor": 4
}