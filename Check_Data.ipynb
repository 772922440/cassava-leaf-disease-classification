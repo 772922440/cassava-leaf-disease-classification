{
 "cells": [
  {
   "cell_type": "code",
   "execution_count": 1,
   "metadata": {},
   "outputs": [],
   "source": [
    "import pandas as pd \n",
    "import numpy as np"
   ]
  },
  {
   "cell_type": "code",
   "execution_count": 32,
   "metadata": {},
   "outputs": [],
   "source": [
    "df_merge = pd.read_csv('./merge_data/train/train.csv' )\n",
    "df_og = pd.read_csv('./data/train.csv') \n",
    "\n",
    "print(len(df_merge))\n",
    "print(len(df_og))"
   ]
  },
  {
   "cell_type": "code",
   "execution_count": 44,
   "metadata": {},
   "outputs": [
    {
     "name": "stdout",
     "output_type": "stream",
     "text": [
      "375\n"
     ]
    }
   ],
   "source": [
    "\n",
    "df_merge_list = df_merge.image_id.values\n",
    "df_og_list = df_og.image_id.values\n",
    "\n",
    "item_list = []\n",
    "for item in df_og_list:\n",
    "    if item not in df_merge_list:\n",
    "        item_list.append(item)\n",
    "\n",
    "print(len(item_list))"
   ]
  },
  {
   "cell_type": "markdown",
   "metadata": {},
   "source": [
    "## Current tasks\n",
    "\n",
    "- Figure out why 375 is not contains into the original dataset, find them, make a new folder and check them what knid of pics of them.\n",
    "\n",
    "- If there is no problem, create a new dataset which is contains the whole data we current have.\n",
    "\n",
    "- Make EDAs of the orginal dataset and New dataset which we make, comapre them.\n",
    "\n",
    "- Find more notebook about that (Make sure) Is there any notebook talking about the dataset?"
   ]
  },
  {
   "cell_type": "code",
   "execution_count": null,
   "metadata": {},
   "outputs": [],
   "source": []
  }
 ],
 "metadata": {
  "kernelspec": {
   "display_name": "Python 3",
   "language": "python",
   "name": "python3"
  },
  "language_info": {
   "codemirror_mode": {
    "name": "ipython",
    "version": 3
   },
   "file_extension": ".py",
   "mimetype": "text/x-python",
   "name": "python",
   "nbconvert_exporter": "python",
   "pygments_lexer": "ipython3",
   "version": "3.6.12"
  }
 },
 "nbformat": 4,
 "nbformat_minor": 4
}
